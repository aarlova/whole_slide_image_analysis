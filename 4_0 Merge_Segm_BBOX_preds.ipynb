{
 "cells": [
  {
   "cell_type": "code",
   "execution_count": 1,
   "id": "0a1f03bf-b9d0-48fb-996b-327475a760b3",
   "metadata": {},
   "outputs": [],
   "source": [
    "from ovarian_utils import MetaPolygon\n",
    "import numpy as np\n",
    "import pandas as pd\n",
    "from ovarian_utils import read_qupath_json\n",
    "from shapely.strtree import STRtree\n",
    "from pathlib import Path\n",
    "import json\n",
    "from shapely.geometry import Point, Polygon, mapping, shape, box\n",
    "from shapely.ops import unary_union\n",
    "\n",
    "import matplotlib.pyplot as plt\n",
    "import random\n",
    "plt.rcParams['figure.dpi'] = 500 # for high resolution figure\n"
   ]
  },
  {
   "cell_type": "code",
   "execution_count": 2,
   "id": "fa5b6360-7b38-4121-acec-e08ceb93d126",
   "metadata": {},
   "outputs": [],
   "source": [
    "def write_qupath_noIDs_Polys(xmlsave, regions, region_labels, region_colors):\n",
    "    trythis = '['\n",
    "    if len(regions) == 0:\n",
    "        pass\n",
    "    else:\n",
    "        for i in range(0, len(regions)):\n",
    "            roi = regions[i]\n",
    "            label = region_labels[i]\n",
    "            trythis += json.dumps(\n",
    "                {\"type\": \"Feature\", \"id\": \"PathAnnotationObject\", \"geometry\": mapping(roi),\n",
    "                 \"properties\": {\"classification\": {\"name\": label + '_'+str(i), \"colorRGB\": region_colors[label]}, \"isLocked\": False,\n",
    "                                \"measurements\": []}}, indent=4)\n",
    "            if i < len(regions) - 1:\n",
    "                trythis += ','\n",
    "\n",
    "    trythis += ']'\n",
    "\n",
    "    with open(xmlsave, 'w') as outfile:\n",
    "        outfile.write(trythis)"
   ]
  },
  {
   "cell_type": "code",
   "execution_count": 6,
   "id": "f58b15d5-31d4-4df6-8744-f747571ce9ec",
   "metadata": {},
   "outputs": [
    {
     "name": "stdout",
     "output_type": "stream",
     "text": [
      "1\n",
      "['17133893']\n"
     ]
    }
   ],
   "source": [
    "bbox_json_dir = '/media/14TB/aarlova_ovarian/ovarian demo/demo_objDet_preds/'\n",
    "\n",
    "segm_json_dir = '/media/14TB/aarlova_ovarian/ovarian demo/demo_segm_preds/'\n",
    "\n",
    "save_dir = '/media/14TB/aarlova_ovarian/ovarian demo/demo_merged_preds/'\n",
    "\n",
    "\n",
    "file_list = ['17133893']\n",
    "print(len(file_list))\n",
    "print(file_list)"
   ]
  },
  {
   "cell_type": "code",
   "execution_count": 9,
   "id": "67814ade-202d-471a-baa7-11eb31f94664",
   "metadata": {},
   "outputs": [
    {
     "name": "stdout",
     "output_type": "stream",
     "text": [
      "Working on 0 17133893\n",
      "/media/14TB/aarlova_ovarian/ovarian demo/demo_objDet_preds/17133893_fastRCNN.json\n",
      "/media/14TB/aarlova_ovarian/ovarian demo/demo_segm_preds/17133893.json\n",
      "loaded bbox\n",
      "loaded segm\n",
      "BBOX polygons 481 SEGM polygons 391\n"
     ]
    },
    {
     "name": "stderr",
     "output_type": "stream",
     "text": [
      "/media/14TB/aarlova_ovarian/ovarian demo/ovarian_utils.py:23: ShapelyDeprecationWarning: Setting custom attributes on geometry objects is deprecated, and will raise an AttributeError in Shapely 2.0\n",
      "  self.label = label\n",
      "/media/14TB/aarlova_ovarian/ovarian demo/ovarian_utils.py:24: ShapelyDeprecationWarning: Setting custom attributes on geometry objects is deprecated, and will raise an AttributeError in Shapely 2.0\n",
      "  self.id = id\n"
     ]
    },
    {
     "name": "stdout",
     "output_type": "stream",
     "text": [
      "Total Detections 398\n",
      "~~~~~~~~~~~~~~~~~~~~~~~~~~~~~~~~~~~~~~~~~~~~~~~~~~~~~~~~~~~~~~~~~~~~~~~~~~~~\n",
      "[]\n"
     ]
    }
   ],
   "source": [
    "df_master = pd.DataFrame()\n",
    "\n",
    "failed = []\n",
    "\n",
    "for i in range(len(file_list)):\n",
    "    # try:\n",
    "        \n",
    "    slide_name = file_list[i]\n",
    "    print('Working on', i, slide_name)\n",
    "    print(bbox_json_dir + slide_name + '_fastRCNN.json')\n",
    "    print(segm_json_dir + slide_name + '.json')\n",
    "\n",
    "    # read in BBOX jsons\n",
    "    bbox_regions, bbox_region_labels = read_qupath_json(bbox_json_dir + slide_name + '_fastRCNN.json')\n",
    "    print('loaded bbox')\n",
    "\n",
    "    # read in SEGMENTATION json\n",
    "    segm_regions, segm_region_labels = read_qupath_json(segm_json_dir + slide_name + '.json')\n",
    "    print('loaded segm')\n",
    "\n",
    "    # convert BBOX and SEGMENTATION regions to MetaPolygons\n",
    "    bbox_polygons = []\n",
    "    for i in range(len(bbox_regions)):\n",
    "        metapoly = MetaPolygon('Follicle', bbox_regions[i])\n",
    "        bbox_polygons.append(metapoly)\n",
    "\n",
    "    segm_polygons = []\n",
    "    for k in range(len(segm_regions)):\n",
    "        metapoly = MetaPolygon('Follicle', segm_regions[k])\n",
    "        segm_polygons.append(metapoly)\n",
    "\n",
    "    print('BBOX polygons', len(bbox_polygons), 'SEGM polygons', len(segm_polygons))\n",
    "\n",
    "\n",
    "    ######################## compare SEGM and BBOX polygons:\n",
    "    df_out = pd.DataFrame()\n",
    "\n",
    "    tree = STRtree(bbox_polygons)\n",
    "\n",
    "    matched_follicles = []\n",
    "    unmatched_segm_follicles = []\n",
    "\n",
    "    for poly in segm_polygons:\n",
    "        query_geom = poly\n",
    "        intersects = [o for o in tree.query(query_geom) if o.intersects(query_geom) and query_geom.intersection(o).area/o.area > 0.3]\n",
    "        intersects = [o for o in intersects if o not in matched_follicles]# make sure each intersecting follicle only gets counted once\n",
    "        if len(intersects) > 0:\n",
    "            matched_follicles.extend(intersects)            \n",
    "        else:\n",
    "            if query_geom not in unmatched_segm_follicles: # make sure each unmatched segm follicle only gets counted once\n",
    "                unmatched_segm_follicles.append(box(*query_geom.bounds))\n",
    "\n",
    "\n",
    "    ####################### look for unmatched BBOX preds\n",
    "    tree2 = STRtree(segm_polygons)\n",
    "    unmatched_bbox_follicles = []\n",
    "\n",
    "    for poly in bbox_polygons:\n",
    "        query_geom = poly\n",
    "        intersects = [o for o in tree2.query(query_geom) if o.intersects(query_geom)]\n",
    "        if len(intersects) == 0 and query_geom not in unmatched_bbox_follicles: # make sure each unmatched bbox follicle only gets counted once\n",
    "            unmatched_bbox_follicles.append(query_geom)\n",
    "\n",
    "    df_out['Slide ID'] = [slide_name]\n",
    "    df_out['Follicle match'] = [len(matched_follicles)]  # use this for binary, and follicle_match for multiclass seg (in Binary, all GT labels have been changed to Follicle)\n",
    "    df_out['Total BBOX preds'] = [len(bbox_polygons)]\n",
    "    df_out['Total SEGM preds'] = [len(segm_polygons)]\n",
    "    df_out['SEGM preds not supported by BBOX preds'] = [len(unmatched_segm_follicles)]\n",
    "    df_out['BBOX preds not supported by SEGM preds'] = [len(unmatched_bbox_follicles)]\n",
    "    df_out['% BBOX preds coinciding with SEGM preds'] = [len(matched_follicles) / len(bbox_polygons)]\n",
    "\n",
    "    df_master = pd.concat([df_master, df_out])\n",
    "\n",
    "    region_colors = {'Follicle': -16274801}\n",
    "    merged_follicles = matched_follicles + unmatched_segm_follicles\n",
    "    labels = ['Follicle' for f in merged_follicles]\n",
    "    print('Total Detections', len(merged_follicles))\n",
    "\n",
    "    write_qupath_noIDs_Polys(save_dir + slide_name + '.json', merged_follicles, labels, region_colors)\n",
    "    print('~~~~~~~~~~~~~~~~~~~~~~~~~~~~~~~~~~~~~~~~~~~~~~~~~~~~~~~~~~~~~~~~~~~~~~~~~~~~')\n",
    "\n",
    "    # except:\n",
    "    #     print('failed to merge')\n",
    "    #     failed.append(slide_name)\n",
    "    #     print('~~~~~~~~~~~~~~~~~~~~~~~~~~~~~~~~~~~~~~~~~~~~~~~~~~~~~~~~~~~~~~~~~~~~~~~~~~~~')\n",
    "\n",
    "print(failed)\n"
   ]
  },
  {
   "cell_type": "code",
   "execution_count": 10,
   "id": "16ad9eec-f3ff-429e-a6ed-cc52e91606b7",
   "metadata": {},
   "outputs": [
    {
     "data": {
      "text/html": [
       "<div>\n",
       "<style scoped>\n",
       "    .dataframe tbody tr th:only-of-type {\n",
       "        vertical-align: middle;\n",
       "    }\n",
       "\n",
       "    .dataframe tbody tr th {\n",
       "        vertical-align: top;\n",
       "    }\n",
       "\n",
       "    .dataframe thead th {\n",
       "        text-align: right;\n",
       "    }\n",
       "</style>\n",
       "<table border=\"1\" class=\"dataframe\">\n",
       "  <thead>\n",
       "    <tr style=\"text-align: right;\">\n",
       "      <th></th>\n",
       "      <th>Slide ID</th>\n",
       "      <th>Follicle match</th>\n",
       "      <th>Total BBOX preds</th>\n",
       "      <th>Total SEGM preds</th>\n",
       "      <th>SEGM preds not supported by BBOX preds</th>\n",
       "      <th>BBOX preds not supported by SEGM preds</th>\n",
       "      <th>% BBOX preds coinciding with SEGM preds</th>\n",
       "    </tr>\n",
       "  </thead>\n",
       "  <tbody>\n",
       "    <tr>\n",
       "      <th>0</th>\n",
       "      <td>17133893</td>\n",
       "      <td>55</td>\n",
       "      <td>481</td>\n",
       "      <td>391</td>\n",
       "      <td>343</td>\n",
       "      <td>404</td>\n",
       "      <td>0.114345</td>\n",
       "    </tr>\n",
       "  </tbody>\n",
       "</table>\n",
       "</div>"
      ],
      "text/plain": [
       "   Slide ID  Follicle match  Total BBOX preds  Total SEGM preds  \\\n",
       "0  17133893              55               481               391   \n",
       "\n",
       "   SEGM preds not supported by BBOX preds  \\\n",
       "0                                     343   \n",
       "\n",
       "   BBOX preds not supported by SEGM preds  \\\n",
       "0                                     404   \n",
       "\n",
       "   % BBOX preds coinciding with SEGM preds  \n",
       "0                                 0.114345  "
      ]
     },
     "execution_count": 10,
     "metadata": {},
     "output_type": "execute_result"
    }
   ],
   "source": [
    "df_master"
   ]
  },
  {
   "cell_type": "code",
   "execution_count": null,
   "id": "cda00858-6c37-445f-b736-2fadb9b5b08a",
   "metadata": {},
   "outputs": [],
   "source": []
  }
 ],
 "metadata": {
  "kernelspec": {
   "display_name": "pytorch_lym_clone",
   "language": "python",
   "name": "pytorch_lym_clone"
  },
  "language_info": {
   "codemirror_mode": {
    "name": "ipython",
    "version": 3
   },
   "file_extension": ".py",
   "mimetype": "text/x-python",
   "name": "python",
   "nbconvert_exporter": "python",
   "pygments_lexer": "ipython3",
   "version": "3.9.7"
  }
 },
 "nbformat": 4,
 "nbformat_minor": 5
}
